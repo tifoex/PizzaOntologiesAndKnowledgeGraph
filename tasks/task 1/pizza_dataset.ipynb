{
  "nbformat": 4,
  "nbformat_minor": 0,
  "metadata": {
    "colab": {
      "private_outputs": true,
      "provenance": []
    },
    "kernelspec": {
      "name": "python3",
      "display_name": "Python 3"
    },
    "language_info": {
      "name": "python"
    }
  },
  "cells": [
    {
      "cell_type": "code",
      "execution_count": null,
      "metadata": {
        "id": "D5bi0epquJ2_"
      },
      "outputs": [],
      "source": [
        "import pandas as pd\n",
        "\n",
        "# Read the CSV file into a DataFrame\n",
        "df = pd.read_csv(\"/content/INM713_coursework_data_pizza_8358_1_reduced.csv\")\n",
        "\n",
        "# Check for NaN values in each column\n",
        "nan_values = df.isnull().sum()\n",
        "print(\"NaN values per column:\")\n",
        "print(nan_values)\n",
        "\n",
        "# Explore the 'categories' column and extract unique category values\n",
        "categories_column = df['categories']\n",
        "categories = set()\n",
        "\n",
        "# Iterate over each row in the 'categories' column\n",
        "for row in categories_column:\n",
        "    if isinstance(row, str):\n",
        "        # Split the row by commas and add each category to the set\n",
        "        row_categories = row.split(',')\n",
        "        for category in row_categories:\n",
        "            categories.add(category.strip())\n",
        "\n",
        "# Print unique category values\n",
        "print(\"Unique category values:\")\n",
        "for category in categories:\n",
        "    print(category)\n"
      ]
    },
    {
      "cell_type": "code",
      "source": [
        "# Explore the 'categories' column and extract unique category values\n",
        "categories_column = df['categories']\n",
        "categories = []\n",
        "\n",
        "# Iterate over each row in the 'categories' column\n",
        "for row in categories_column:\n",
        "    if isinstance(row, str):\n",
        "        # Split the row by commas and add each category to the list\n",
        "        row_categories = row.split(',')\n",
        "        for category in row_categories:\n",
        "            categories.append(category.strip())\n",
        "\n",
        "# Create a pandas Series from the categories list and get the top 10 most frequent categories\n",
        "top_10_categories = pd.Series(categories).value_counts().head(25)\n",
        "\n",
        "# Print the top 10 most frequent categories\n",
        "print(\"Top 10 most frequent categories:\")\n",
        "print(top_10_categories)\n"
      ],
      "metadata": {
        "id": "BTPwu5d-1KrH"
      },
      "execution_count": null,
      "outputs": []
    },
    {
      "cell_type": "code",
      "source": [
        "from wordcloud import WordCloud\n",
        "import matplotlib.pyplot as plt\n",
        "\n",
        "# Concatenate all the menu items into a single string\n",
        "menu_items = ' '.join(df['menu item'].dropna().values.tolist())\n",
        "modified_text = menu_items.replace(\"pizza\", \"\")\n",
        "modified_text = modified_text.replace(\"Pizza\", \"\")\n",
        "# Generate the word cloud\n",
        "wordcloud = WordCloud(width=800, height=400, background_color='white').generate(modified_text)\n",
        "\n",
        "# Plot the word cloud\n",
        "plt.figure(figsize=(10, 6))\n",
        "plt.imshow(wordcloud, interpolation='bilinear')\n",
        "plt.axis('off')\n",
        "plt.show()\n"
      ],
      "metadata": {
        "id": "ZBK1sffF70_m"
      },
      "execution_count": null,
      "outputs": []
    },
    {
      "cell_type": "code",
      "source": [
        "from collections import Counter\n",
        "\n",
        "text = modified_text\n",
        "\n",
        "# Convert the string to lowercase and split it into words\n",
        "words = text.lower().split()\n",
        "\n",
        "# Count the occurrences of each word\n",
        "word_counts = Counter(words)\n",
        "\n",
        "# Get the top 20 most common words\n",
        "top_20_words = word_counts.most_common(100)\n",
        "\n",
        "# Print the top 20 words and their counts\n",
        "for word, count in top_20_words:\n",
        "    print(f\"{word}: {count}\")\n"
      ],
      "metadata": {
        "id": "1xx0Zang83iQ"
      },
      "execution_count": null,
      "outputs": []
    },
    {
      "cell_type": "code",
      "source": [
        "type(menu_items)"
      ],
      "metadata": {
        "id": "AlHGoiP38CF_"
      },
      "execution_count": null,
      "outputs": []
    },
    {
      "cell_type": "code",
      "source": [
        "import pandas as pd\n",
        "import re\n",
        "\n",
        "\n",
        "# Extract the pizza types from the 'menu item' column using regular expressions\n",
        "pizza_types = df['menu item'].str.extract(r'(cheese|veggie|pepperoni|margherita|hawaiian|meat lovers|bbq chicken|supreme|buffalo chicken|greek)', flags=re.IGNORECASE)\n",
        "\n",
        "# Assign 'Other' category to remaining pizza types\n",
        "pizza_types = pizza_types.fillna('Other')\n",
        "\n",
        "# Add the pizza type column to the DataFrame\n",
        "df['pizza_type'] = pizza_types\n",
        "\n",
        "# Count the occurrences of each pizza type\n",
        "pizza_type_counts = pizza_types[0].value_counts()\n",
        "\n",
        "# Get the top 10 pizza types\n",
        "top_10_pizza_types = pizza_type_counts.head(10)\n",
        "\n",
        "# Print the top 10 pizza types\n",
        "print(\"Top 10 pizza types:\")\n",
        "print(top_10_pizza_types)\n",
        "\n",
        "# Print the updated DataFrame with the pizza type column\n",
        "print(\"Updated DataFrame:\")\n",
        "df.head(10)"
      ],
      "metadata": {
        "id": "gHNUVV9W0sMX"
      },
      "execution_count": null,
      "outputs": []
    },
    {
      "cell_type": "code",
      "source": [
        "import pandas as pd\n",
        "\n",
        "\n",
        "\n",
        "# Define the 50 pizza types\n",
        "pizza_types = ['kid','margarita','vegetarian','vegetable','nutella','italian','grilled','sandwich','seafood','sushi','vodka','buffalo','bbq','bagel','roll','fries','burger','steak','bread','sub','crust','taco','mexican','bianca','shrimp','mediterranean','cheese','meat', 'veggie', 'margherita', 'pepperoni', 'hawaiian', 'meat lovers', 'supreme', 'bbq chicken', 'buffalo chicken', 'spinach', 'mushroom', 'pesto', 'neapolitan', 'sicilian', 'white', 'greek', 'anchovy', 'sausage', 'bacon', 'ham', 'chicken', 'artichoke', 'roasted garlic', 'tomato', 'prosciutto', 'four cheese', 'barbecue', 'ranch', 'garlic', 'onion', 'green pepper', 'red pepper', 'jalapeno', 'olive', 'pineapple', 'broccoli', 'feta', 'goat cheese', 'blue cheese', 'ricotta', 'mozzarella', 'parmesan', 'romano', 'asiago', 'cheddar', 'swiss', 'gorgonzola', 'brie', 'goat']\n",
        "\n",
        "# Function to classify pizza based on its name\n",
        "def classify_pizza(pizza_name):\n",
        "    for pizza_type in pizza_types:\n",
        "        if pizza_type in pizza_name.lower():\n",
        "              return pizza_type\n",
        "            \n",
        "    return 'other'\n",
        "\n",
        "# Apply the classification function to the 'name' column and create a new column 'pizza_type'\n",
        "df['pizza_type'] = df['menu item'].apply(classify_pizza)\n",
        "\n",
        "# Print the updated table\n",
        "df.head(10)"
      ],
      "metadata": {
        "id": "WrlquZio_HgH"
      },
      "execution_count": null,
      "outputs": []
    },
    {
      "cell_type": "code",
      "source": [
        "# Group by 'pizza_type' and count occurrences\n",
        "pizza_counts = df.groupby('pizza_type').size().reset_index(name='count')\n",
        "\n",
        "# Sort the counts in descending order\n",
        "pizza_counts = pizza_counts.sort_values(by='count', ascending=False)\n",
        "\n",
        "# Print the top 10 most repeated pizza types\n",
        "pizza_counts.head(50)\n"
      ],
      "metadata": {
        "id": "Ve6A9pJN_VY2"
      },
      "execution_count": null,
      "outputs": []
    },
    {
      "cell_type": "code",
      "source": [
        "# Filter rows where pizza_type is 'other'\n",
        "other_pizzas = df[df['pizza_type'] == 'other']\n",
        "\n",
        "# Print the rows\n",
        "DF=other_pizzas[['pizza_type','menu item']]\n",
        "DF"
      ],
      "metadata": {
        "id": "q1jWfu1q_wxQ"
      },
      "execution_count": null,
      "outputs": []
    },
    {
      "cell_type": "code",
      "source": [
        "from collections import Counter\n",
        "from wordcloud import WordCloud\n",
        "import matplotlib.pyplot as plt\n",
        "\n",
        "# Concatenate all the menu items into a single string\n",
        "menu_items = ' '.join(DF['menu item'].dropna().values.tolist())\n",
        "modified_text = menu_items.replace(\"pizza\", \"\")\n",
        "modified_text = modified_text.replace(\"Pizza\", \"\")\n",
        "# Generate the word cloud\n",
        "wordcloud = WordCloud(width=800, height=400, background_color='white').generate(modified_text)\n",
        "\n",
        "# Plot the word cloud\n",
        "plt.figure(figsize=(10, 6))\n",
        "plt.imshow(wordcloud, interpolation='bilinear')\n",
        "plt.axis('off')\n",
        "plt.show()\n",
        "\n",
        "text = modified_text\n",
        "\n",
        "# Convert the string to lowercase and split it into words\n",
        "words = text.lower().split()\n",
        "\n",
        "# Count the occurrences of each word\n",
        "word_counts = Counter(words)\n",
        "\n",
        "# Get the top 20 most common words\n",
        "top_20_words = word_counts.most_common(10)\n",
        "\n",
        "# Print the top 20 words and their counts\n",
        "for word, count in top_20_words:\n",
        "    print(f\"{word}: {count}\")\n"
      ],
      "metadata": {
        "id": "HO_-SxYaAgCT"
      },
      "execution_count": null,
      "outputs": []
    },
    {
      "cell_type": "code",
      "source": [
        "# Update pizza_type column\n",
        "# Replace values in the 'pizza_type' column\n",
        "df['pizza_type'] = df['pizza_type'].replace(['vegetarian', 'vegetable'], 'veggie')\n",
        "# Replace values in the 'pizza_type' column\n",
        "df['pizza_type'] = df['pizza_type'].replace('margarita', 'margherita')\n",
        "\n",
        "# Print the updated DataFrame\n",
        "df.head()"
      ],
      "metadata": {
        "id": "51U5XLTgBIhw"
      },
      "execution_count": null,
      "outputs": []
    },
    {
      "cell_type": "code",
      "source": [
        "# Filter rows where pizza_type is 'other'\n",
        "other_pizzas = df[df['pizza_type'] == 'other']\n",
        "\n",
        "# Print the rows\n",
        "DF=other_pizzas[['pizza_type','menu item']]\n",
        "DF"
      ],
      "metadata": {
        "id": "eruqg77xDK7J"
      },
      "execution_count": null,
      "outputs": []
    },
    {
      "cell_type": "code",
      "source": [
        "# Group by 'pizza_type' and count occurrences\n",
        "pizza_counts = df.groupby('pizza_type').size().reset_index(name='count')\n",
        "\n",
        "# Sort the counts in descending order\n",
        "pizza_counts = pizza_counts.sort_values(by='count', ascending=False)\n",
        "\n",
        "# Print the top 10 most repeated pizza types\n",
        "pizza_counts.head(50)\n"
      ],
      "metadata": {
        "id": "-_8upUjCDYbA"
      },
      "execution_count": null,
      "outputs": []
    },
    {
      "cell_type": "code",
      "source": [
        "!pip install requests\n",
        "!pip install rdflib\n",
        "!pip install SPARQLWrapper\n",
        "!pip install Owlready2\n"
      ],
      "metadata": {
        "id": "5y_4ElJ6PPng"
      },
      "execution_count": null,
      "outputs": []
    }
  ]
}